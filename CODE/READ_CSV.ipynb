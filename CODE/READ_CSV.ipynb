#直接從GOOGLE DRIVE 下載CSV的版本
# Code to read csv file into Colaboratory:
import pandas as pd
!pip install -U -q PyDrive
from pydrive.auth import GoogleAuth
from pydrive.drive import GoogleDrive
from google.colab import auth
from oauth2client.client import GoogleCredentials

# Authenticate and create the PyDrive client.
auth.authenticate_user()
gauth = GoogleAuth()
gauth.credentials = GoogleCredentials.get_application_default()
drive = GoogleDrive(gauth)

link = 'https://drive.google.com/open?id=1inOqJWqIZyMHaMV_89-TBZgjT11kpQQQ' # The shareable link
fluff, id = link.split('=')

print (id) # Verify that you have everything after '='
downloaded = drive.CreateFile({'id':id}) 
downloaded.GetContentFile('amzn-anon-access-samples-2.0.csv')  
df3 = pd.read_csv('amzn-anon-access-samples-2.0.csv')
df3

# Dataset is now stored in a Pandas Dataframe

#直接從本地主機上傳CSV的版本
from google.colab import files
uploaded = files.upload()
import pandas as pd
import io

df = pd.read_csv(io.StringIO(uploaded['amzn-anon-access-samples-history-2.0.csv'].decode('utf-8')))
df
